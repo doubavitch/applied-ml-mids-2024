{
  "cells": [
    {
      "cell_type": "markdown",
      "metadata": {
        "id": "y6XZ55wHbdm5"
      },
      "source": [
        "# Part 1 of the Machine Learning Project\n",
        "\n",
        "## Preliminaries\n",
        "\n",
        "\n",
        "Before satring familiarize yourself with pandas reading the “10 minutes to pandas” tutorial: https://pandas.pydata.org/pandas-docs/stable/user_guide/10min.html\n",
        "\n",
        "Browse through the full pandas user guide when needed: https://pandas.pydata.org/pandas-docs/stable/user_guide/index.html\n",
        "\n",
        "\n",
        "## Load libraries"
      ]
    },
    {
      "cell_type": "code",
      "execution_count": 1,
      "metadata": {
        "id": "L8jsxX6eaxL_"
      },
      "outputs": [],
      "source": [
        "# numpy and pandas for data manipulation\n",
        "import numpy as np\n",
        "import pandas as pd\n",
        "\n",
        "# File system manangement\n",
        "import os\n",
        "\n",
        "# Suppress warnings\n",
        "import warnings\n",
        "warnings.filterwarnings('ignore')\n",
        "\n",
        "# matplotlib and seaborn for plotting\n",
        "import matplotlib.pyplot as plt\n",
        "import seaborn as sns\n"
      ]
    },
    {
      "cell_type": "markdown",
      "metadata": {
        "id": "ctTp1HonbYpj"
      },
      "source": [
        "<p><img alt=\"Datasets\" src=\"https://storage.googleapis.com/kaggle-media/competitions/home-credit/home_credit.png\" align=\"left\" hspace=\"10px\" vspace=\"0px\"></p>\n",
        "\n",
        "\n",
        "<h1>Datasets</h1>"
      ]
    },
    {
      "cell_type": "markdown",
      "metadata": {
        "id": "uPBTWB1ViFHe"
      },
      "source": [
        "<h1>Loading the datasets (2 pts)</h1>\n",
        "\n",
        "1. Similarly to the train set, load the test set, the bureau dataset and the past applications dataset.\n",
        "\n",
        "2. Display for each the number of rows and the number of columns\n",
        "\n",
        "*You will be evaluated as follow*\n",
        "* 1: Correct approach + code: 1pt\n",
        "* 2: Code: 1pts\n"
      ]
    },
    {
      "cell_type": "code",
      "execution_count": 2,
      "metadata": {
        "id": "GjoGTJvLiBPP"
      },
      "outputs": [
        {
          "name": "stdout",
          "output_type": "stream",
          "text": [
            "Training data shape (rows, columns): (307511, 122)\n",
            "Test data shape: (48744, 121)\n",
            "Bureau data shape: (1716428, 17)\n",
            "Past Applications data shape: (1670214, 37)\n"
          ]
        }
      ],
      "source": [
        "#The variables that should be implemented to store the data are: app_train, app_test, bureau, app_past\n",
        "\n",
        "# 1 - Loading the different datasets.\n",
        "app_train = pd.read_csv('data/application_train.csv.zip', compression = 'zip')\n",
        "app_test = pd.read_csv('data/application_test.csv.zip', compression = 'zip')\n",
        "bureau = pd.read_csv('data/bureau.csv.zip', compression = 'zip')\n",
        "app_past = pd.read_csv('data/previous_application.csv.zip', compression = 'zip')\n",
        "\n",
        "\n",
        "# 2 - The number of rows and columns for each\n",
        "print('Training data shape (rows, columns):', app_train.shape)\n",
        "print('Test data shape:', app_test.shape)\n",
        "print('Bureau data shape:', bureau.shape)\n",
        "print('Past Applications data shape:', app_past.shape)\n"
      ]
    },
    {
      "cell_type": "markdown",
      "metadata": {
        "id": "GnMI0pRmkHzH"
      },
      "source": [
        "<h1> Feature Engineering</h1>"
      ]
    },
    {
      "cell_type": "markdown",
      "metadata": {
        "id": "SuAAPVW1kH82"
      },
      "source": [
        "<h2>Missing values (9pts)</h2>\n",
        "\n",
        "\n",
        "**3.a**: What columns are missing the most values in app_test?\n",
        "\n",
        "**3.b**: What columns are missing the most values in bureau?\n",
        "\n",
        "**3.c**: What columns are missing the most values in app_past?\n",
        "\n",
        "4: Fix missing data in app_test dataset using categorization and/or simple imputation when appropriate. Be careful to the **data leakage** issue!\n",
        "\n",
        "*You will be evaluated as follow*\n",
        "* 3: Correct approach + code 2pts.\n",
        "* 4: Description of the approach 4pts. Code implementation of the approach 3pts."
      ]
    },
    {
      "cell_type": "code",
      "execution_count": 3,
      "metadata": {},
      "outputs": [
        {
          "name": "stdout",
          "output_type": "stream",
          "text": [
            "Columns with the most missing values in app_test: \n"
          ]
        },
        {
          "data": {
            "text/html": [
              "<div>\n",
              "<style scoped>\n",
              "    .dataframe tbody tr th:only-of-type {\n",
              "        vertical-align: middle;\n",
              "    }\n",
              "\n",
              "    .dataframe tbody tr th {\n",
              "        vertical-align: top;\n",
              "    }\n",
              "\n",
              "    .dataframe thead th {\n",
              "        text-align: right;\n",
              "    }\n",
              "</style>\n",
              "<table border=\"1\" class=\"dataframe\">\n",
              "  <thead>\n",
              "    <tr style=\"text-align: right;\">\n",
              "      <th></th>\n",
              "      <th>Total</th>\n",
              "      <th>Percent</th>\n",
              "    </tr>\n",
              "  </thead>\n",
              "  <tbody>\n",
              "    <tr>\n",
              "      <th>COMMONAREA_AVG</th>\n",
              "      <td>33495</td>\n",
              "      <td>68.716150</td>\n",
              "    </tr>\n",
              "    <tr>\n",
              "      <th>COMMONAREA_MODE</th>\n",
              "      <td>33495</td>\n",
              "      <td>68.716150</td>\n",
              "    </tr>\n",
              "    <tr>\n",
              "      <th>COMMONAREA_MEDI</th>\n",
              "      <td>33495</td>\n",
              "      <td>68.716150</td>\n",
              "    </tr>\n",
              "    <tr>\n",
              "      <th>NONLIVINGAPARTMENTS_AVG</th>\n",
              "      <td>33347</td>\n",
              "      <td>68.412523</td>\n",
              "    </tr>\n",
              "    <tr>\n",
              "      <th>NONLIVINGAPARTMENTS_MODE</th>\n",
              "      <td>33347</td>\n",
              "      <td>68.412523</td>\n",
              "    </tr>\n",
              "    <tr>\n",
              "      <th>NONLIVINGAPARTMENTS_MEDI</th>\n",
              "      <td>33347</td>\n",
              "      <td>68.412523</td>\n",
              "    </tr>\n",
              "    <tr>\n",
              "      <th>FONDKAPREMONT_MODE</th>\n",
              "      <td>32797</td>\n",
              "      <td>67.284179</td>\n",
              "    </tr>\n",
              "    <tr>\n",
              "      <th>LIVINGAPARTMENTS_AVG</th>\n",
              "      <td>32780</td>\n",
              "      <td>67.249302</td>\n",
              "    </tr>\n",
              "    <tr>\n",
              "      <th>LIVINGAPARTMENTS_MODE</th>\n",
              "      <td>32780</td>\n",
              "      <td>67.249302</td>\n",
              "    </tr>\n",
              "    <tr>\n",
              "      <th>LIVINGAPARTMENTS_MEDI</th>\n",
              "      <td>32780</td>\n",
              "      <td>67.249302</td>\n",
              "    </tr>\n",
              "    <tr>\n",
              "      <th>FLOORSMIN_MEDI</th>\n",
              "      <td>32466</td>\n",
              "      <td>66.605121</td>\n",
              "    </tr>\n",
              "    <tr>\n",
              "      <th>FLOORSMIN_AVG</th>\n",
              "      <td>32466</td>\n",
              "      <td>66.605121</td>\n",
              "    </tr>\n",
              "    <tr>\n",
              "      <th>FLOORSMIN_MODE</th>\n",
              "      <td>32466</td>\n",
              "      <td>66.605121</td>\n",
              "    </tr>\n",
              "    <tr>\n",
              "      <th>OWN_CAR_AGE</th>\n",
              "      <td>32312</td>\n",
              "      <td>66.289184</td>\n",
              "    </tr>\n",
              "    <tr>\n",
              "      <th>YEARS_BUILD_AVG</th>\n",
              "      <td>31818</td>\n",
              "      <td>65.275726</td>\n",
              "    </tr>\n",
              "    <tr>\n",
              "      <th>YEARS_BUILD_MEDI</th>\n",
              "      <td>31818</td>\n",
              "      <td>65.275726</td>\n",
              "    </tr>\n",
              "    <tr>\n",
              "      <th>YEARS_BUILD_MODE</th>\n",
              "      <td>31818</td>\n",
              "      <td>65.275726</td>\n",
              "    </tr>\n",
              "    <tr>\n",
              "      <th>LANDAREA_MEDI</th>\n",
              "      <td>28254</td>\n",
              "      <td>57.964057</td>\n",
              "    </tr>\n",
              "    <tr>\n",
              "      <th>LANDAREA_AVG</th>\n",
              "      <td>28254</td>\n",
              "      <td>57.964057</td>\n",
              "    </tr>\n",
              "    <tr>\n",
              "      <th>LANDAREA_MODE</th>\n",
              "      <td>28254</td>\n",
              "      <td>57.964057</td>\n",
              "    </tr>\n",
              "  </tbody>\n",
              "</table>\n",
              "</div>"
            ],
            "text/plain": [
              "                          Total    Percent\n",
              "COMMONAREA_AVG            33495  68.716150\n",
              "COMMONAREA_MODE           33495  68.716150\n",
              "COMMONAREA_MEDI           33495  68.716150\n",
              "NONLIVINGAPARTMENTS_AVG   33347  68.412523\n",
              "NONLIVINGAPARTMENTS_MODE  33347  68.412523\n",
              "NONLIVINGAPARTMENTS_MEDI  33347  68.412523\n",
              "FONDKAPREMONT_MODE        32797  67.284179\n",
              "LIVINGAPARTMENTS_AVG      32780  67.249302\n",
              "LIVINGAPARTMENTS_MODE     32780  67.249302\n",
              "LIVINGAPARTMENTS_MEDI     32780  67.249302\n",
              "FLOORSMIN_MEDI            32466  66.605121\n",
              "FLOORSMIN_AVG             32466  66.605121\n",
              "FLOORSMIN_MODE            32466  66.605121\n",
              "OWN_CAR_AGE               32312  66.289184\n",
              "YEARS_BUILD_AVG           31818  65.275726\n",
              "YEARS_BUILD_MEDI          31818  65.275726\n",
              "YEARS_BUILD_MODE          31818  65.275726\n",
              "LANDAREA_MEDI             28254  57.964057\n",
              "LANDAREA_AVG              28254  57.964057\n",
              "LANDAREA_MODE             28254  57.964057"
            ]
          },
          "execution_count": 3,
          "metadata": {},
          "output_type": "execute_result"
        }
      ],
      "source": [
        "# 3\n",
        "\n",
        "## a\n",
        "total_app_test = app_test.isnull().sum().sort_values(ascending=False)\n",
        "percent_app_test = (((app_test.isnull().sum())/len(app_test))*100).sort_values(ascending=False)\n",
        "missing_app_test_data = pd.concat([total_app_test, percent_app_test], axis=1, keys=['Total', 'Percent'])\n",
        "print('Columns with the most missing values in app_test: ')\n",
        "missing_app_test_data.head(20)"
      ]
    },
    {
      "cell_type": "code",
      "execution_count": 4,
      "metadata": {},
      "outputs": [
        {
          "name": "stdout",
          "output_type": "stream",
          "text": [
            "Columns with the most missing values in bureau: \n"
          ]
        },
        {
          "data": {
            "text/html": [
              "<div>\n",
              "<style scoped>\n",
              "    .dataframe tbody tr th:only-of-type {\n",
              "        vertical-align: middle;\n",
              "    }\n",
              "\n",
              "    .dataframe tbody tr th {\n",
              "        vertical-align: top;\n",
              "    }\n",
              "\n",
              "    .dataframe thead th {\n",
              "        text-align: right;\n",
              "    }\n",
              "</style>\n",
              "<table border=\"1\" class=\"dataframe\">\n",
              "  <thead>\n",
              "    <tr style=\"text-align: right;\">\n",
              "      <th></th>\n",
              "      <th>Total</th>\n",
              "      <th>Percent</th>\n",
              "    </tr>\n",
              "  </thead>\n",
              "  <tbody>\n",
              "    <tr>\n",
              "      <th>AMT_ANNUITY</th>\n",
              "      <td>1226791</td>\n",
              "      <td>71.473490</td>\n",
              "    </tr>\n",
              "    <tr>\n",
              "      <th>AMT_CREDIT_MAX_OVERDUE</th>\n",
              "      <td>1124488</td>\n",
              "      <td>65.513264</td>\n",
              "    </tr>\n",
              "    <tr>\n",
              "      <th>DAYS_ENDDATE_FACT</th>\n",
              "      <td>633653</td>\n",
              "      <td>36.916958</td>\n",
              "    </tr>\n",
              "    <tr>\n",
              "      <th>AMT_CREDIT_SUM_LIMIT</th>\n",
              "      <td>591780</td>\n",
              "      <td>34.477415</td>\n",
              "    </tr>\n",
              "    <tr>\n",
              "      <th>AMT_CREDIT_SUM_DEBT</th>\n",
              "      <td>257669</td>\n",
              "      <td>15.011932</td>\n",
              "    </tr>\n",
              "    <tr>\n",
              "      <th>DAYS_CREDIT_ENDDATE</th>\n",
              "      <td>105553</td>\n",
              "      <td>6.149573</td>\n",
              "    </tr>\n",
              "    <tr>\n",
              "      <th>AMT_CREDIT_SUM</th>\n",
              "      <td>13</td>\n",
              "      <td>0.000757</td>\n",
              "    </tr>\n",
              "    <tr>\n",
              "      <th>CREDIT_ACTIVE</th>\n",
              "      <td>0</td>\n",
              "      <td>0.000000</td>\n",
              "    </tr>\n",
              "    <tr>\n",
              "      <th>CREDIT_CURRENCY</th>\n",
              "      <td>0</td>\n",
              "      <td>0.000000</td>\n",
              "    </tr>\n",
              "    <tr>\n",
              "      <th>DAYS_CREDIT</th>\n",
              "      <td>0</td>\n",
              "      <td>0.000000</td>\n",
              "    </tr>\n",
              "    <tr>\n",
              "      <th>CREDIT_DAY_OVERDUE</th>\n",
              "      <td>0</td>\n",
              "      <td>0.000000</td>\n",
              "    </tr>\n",
              "    <tr>\n",
              "      <th>SK_ID_BUREAU</th>\n",
              "      <td>0</td>\n",
              "      <td>0.000000</td>\n",
              "    </tr>\n",
              "    <tr>\n",
              "      <th>CNT_CREDIT_PROLONG</th>\n",
              "      <td>0</td>\n",
              "      <td>0.000000</td>\n",
              "    </tr>\n",
              "    <tr>\n",
              "      <th>AMT_CREDIT_SUM_OVERDUE</th>\n",
              "      <td>0</td>\n",
              "      <td>0.000000</td>\n",
              "    </tr>\n",
              "    <tr>\n",
              "      <th>CREDIT_TYPE</th>\n",
              "      <td>0</td>\n",
              "      <td>0.000000</td>\n",
              "    </tr>\n",
              "    <tr>\n",
              "      <th>DAYS_CREDIT_UPDATE</th>\n",
              "      <td>0</td>\n",
              "      <td>0.000000</td>\n",
              "    </tr>\n",
              "    <tr>\n",
              "      <th>SK_ID_CURR</th>\n",
              "      <td>0</td>\n",
              "      <td>0.000000</td>\n",
              "    </tr>\n",
              "  </tbody>\n",
              "</table>\n",
              "</div>"
            ],
            "text/plain": [
              "                          Total    Percent\n",
              "AMT_ANNUITY             1226791  71.473490\n",
              "AMT_CREDIT_MAX_OVERDUE  1124488  65.513264\n",
              "DAYS_ENDDATE_FACT        633653  36.916958\n",
              "AMT_CREDIT_SUM_LIMIT     591780  34.477415\n",
              "AMT_CREDIT_SUM_DEBT      257669  15.011932\n",
              "DAYS_CREDIT_ENDDATE      105553   6.149573\n",
              "AMT_CREDIT_SUM               13   0.000757\n",
              "CREDIT_ACTIVE                 0   0.000000\n",
              "CREDIT_CURRENCY               0   0.000000\n",
              "DAYS_CREDIT                   0   0.000000\n",
              "CREDIT_DAY_OVERDUE            0   0.000000\n",
              "SK_ID_BUREAU                  0   0.000000\n",
              "CNT_CREDIT_PROLONG            0   0.000000\n",
              "AMT_CREDIT_SUM_OVERDUE        0   0.000000\n",
              "CREDIT_TYPE                   0   0.000000\n",
              "DAYS_CREDIT_UPDATE            0   0.000000\n",
              "SK_ID_CURR                    0   0.000000"
            ]
          },
          "execution_count": 4,
          "metadata": {},
          "output_type": "execute_result"
        }
      ],
      "source": [
        "## b\n",
        "total_bureau = bureau.isnull().sum().sort_values(ascending=False)\n",
        "percent_bureau = (((bureau.isnull().sum())/len(bureau))*100).sort_values(ascending=False)\n",
        "missing_bureau_data = pd.concat([total_bureau, percent_bureau], axis=1, keys=['Total', 'Percent'])\n",
        "print('Columns with the most missing values in bureau: ')\n",
        "missing_bureau_data.head(17) #there are only 17 columns in the entire bureau dataset"
      ]
    },
    {
      "cell_type": "code",
      "execution_count": 5,
      "metadata": {},
      "outputs": [
        {
          "name": "stdout",
          "output_type": "stream",
          "text": [
            "Columns with the most missing values in app_past: \n"
          ]
        },
        {
          "data": {
            "text/html": [
              "<div>\n",
              "<style scoped>\n",
              "    .dataframe tbody tr th:only-of-type {\n",
              "        vertical-align: middle;\n",
              "    }\n",
              "\n",
              "    .dataframe tbody tr th {\n",
              "        vertical-align: top;\n",
              "    }\n",
              "\n",
              "    .dataframe thead th {\n",
              "        text-align: right;\n",
              "    }\n",
              "</style>\n",
              "<table border=\"1\" class=\"dataframe\">\n",
              "  <thead>\n",
              "    <tr style=\"text-align: right;\">\n",
              "      <th></th>\n",
              "      <th>Total</th>\n",
              "      <th>Percent</th>\n",
              "    </tr>\n",
              "  </thead>\n",
              "  <tbody>\n",
              "    <tr>\n",
              "      <th>RATE_INTEREST_PRIVILEGED</th>\n",
              "      <td>1664263</td>\n",
              "      <td>99.643698</td>\n",
              "    </tr>\n",
              "    <tr>\n",
              "      <th>RATE_INTEREST_PRIMARY</th>\n",
              "      <td>1664263</td>\n",
              "      <td>99.643698</td>\n",
              "    </tr>\n",
              "    <tr>\n",
              "      <th>AMT_DOWN_PAYMENT</th>\n",
              "      <td>895844</td>\n",
              "      <td>53.636480</td>\n",
              "    </tr>\n",
              "    <tr>\n",
              "      <th>RATE_DOWN_PAYMENT</th>\n",
              "      <td>895844</td>\n",
              "      <td>53.636480</td>\n",
              "    </tr>\n",
              "    <tr>\n",
              "      <th>NAME_TYPE_SUITE</th>\n",
              "      <td>820405</td>\n",
              "      <td>49.119754</td>\n",
              "    </tr>\n",
              "    <tr>\n",
              "      <th>NFLAG_INSURED_ON_APPROVAL</th>\n",
              "      <td>673065</td>\n",
              "      <td>40.298129</td>\n",
              "    </tr>\n",
              "    <tr>\n",
              "      <th>DAYS_TERMINATION</th>\n",
              "      <td>673065</td>\n",
              "      <td>40.298129</td>\n",
              "    </tr>\n",
              "    <tr>\n",
              "      <th>DAYS_LAST_DUE</th>\n",
              "      <td>673065</td>\n",
              "      <td>40.298129</td>\n",
              "    </tr>\n",
              "    <tr>\n",
              "      <th>DAYS_LAST_DUE_1ST_VERSION</th>\n",
              "      <td>673065</td>\n",
              "      <td>40.298129</td>\n",
              "    </tr>\n",
              "    <tr>\n",
              "      <th>DAYS_FIRST_DUE</th>\n",
              "      <td>673065</td>\n",
              "      <td>40.298129</td>\n",
              "    </tr>\n",
              "    <tr>\n",
              "      <th>DAYS_FIRST_DRAWING</th>\n",
              "      <td>673065</td>\n",
              "      <td>40.298129</td>\n",
              "    </tr>\n",
              "    <tr>\n",
              "      <th>AMT_GOODS_PRICE</th>\n",
              "      <td>385515</td>\n",
              "      <td>23.081773</td>\n",
              "    </tr>\n",
              "    <tr>\n",
              "      <th>AMT_ANNUITY</th>\n",
              "      <td>372235</td>\n",
              "      <td>22.286665</td>\n",
              "    </tr>\n",
              "    <tr>\n",
              "      <th>CNT_PAYMENT</th>\n",
              "      <td>372230</td>\n",
              "      <td>22.286366</td>\n",
              "    </tr>\n",
              "    <tr>\n",
              "      <th>PRODUCT_COMBINATION</th>\n",
              "      <td>346</td>\n",
              "      <td>0.020716</td>\n",
              "    </tr>\n",
              "    <tr>\n",
              "      <th>AMT_CREDIT</th>\n",
              "      <td>1</td>\n",
              "      <td>0.000060</td>\n",
              "    </tr>\n",
              "    <tr>\n",
              "      <th>NAME_YIELD_GROUP</th>\n",
              "      <td>0</td>\n",
              "      <td>0.000000</td>\n",
              "    </tr>\n",
              "    <tr>\n",
              "      <th>NAME_PORTFOLIO</th>\n",
              "      <td>0</td>\n",
              "      <td>0.000000</td>\n",
              "    </tr>\n",
              "    <tr>\n",
              "      <th>NAME_SELLER_INDUSTRY</th>\n",
              "      <td>0</td>\n",
              "      <td>0.000000</td>\n",
              "    </tr>\n",
              "    <tr>\n",
              "      <th>SELLERPLACE_AREA</th>\n",
              "      <td>0</td>\n",
              "      <td>0.000000</td>\n",
              "    </tr>\n",
              "  </tbody>\n",
              "</table>\n",
              "</div>"
            ],
            "text/plain": [
              "                             Total    Percent\n",
              "RATE_INTEREST_PRIVILEGED   1664263  99.643698\n",
              "RATE_INTEREST_PRIMARY      1664263  99.643698\n",
              "AMT_DOWN_PAYMENT            895844  53.636480\n",
              "RATE_DOWN_PAYMENT           895844  53.636480\n",
              "NAME_TYPE_SUITE             820405  49.119754\n",
              "NFLAG_INSURED_ON_APPROVAL   673065  40.298129\n",
              "DAYS_TERMINATION            673065  40.298129\n",
              "DAYS_LAST_DUE               673065  40.298129\n",
              "DAYS_LAST_DUE_1ST_VERSION   673065  40.298129\n",
              "DAYS_FIRST_DUE              673065  40.298129\n",
              "DAYS_FIRST_DRAWING          673065  40.298129\n",
              "AMT_GOODS_PRICE             385515  23.081773\n",
              "AMT_ANNUITY                 372235  22.286665\n",
              "CNT_PAYMENT                 372230  22.286366\n",
              "PRODUCT_COMBINATION            346   0.020716\n",
              "AMT_CREDIT                       1   0.000060\n",
              "NAME_YIELD_GROUP                 0   0.000000\n",
              "NAME_PORTFOLIO                   0   0.000000\n",
              "NAME_SELLER_INDUSTRY             0   0.000000\n",
              "SELLERPLACE_AREA                 0   0.000000"
            ]
          },
          "execution_count": 5,
          "metadata": {},
          "output_type": "execute_result"
        }
      ],
      "source": [
        "## c \n",
        "total_app_past = app_past.isnull().sum().sort_values(ascending=False)\n",
        "percent_app_past = (((app_past.isnull().sum())/len(app_past))*100).sort_values(ascending=False)\n",
        "missing_app_past_data = pd.concat([total_app_past, percent_app_past], axis=1, keys=['Total', 'Percent'])\n",
        "print('Columns with the most missing values in app_past: ')\n",
        "missing_app_past_data.head(20)"
      ]
    },
    {
      "cell_type": "code",
      "execution_count": 14,
      "metadata": {
        "id": "GCD-Tet5rKuq"
      },
      "outputs": [
        {
          "name": "stdout",
          "output_type": "stream",
          "text": [
            "Number of missing values left in the app_test_cleaned data set:  0\n"
          ]
        }
      ],
      "source": [
        "# 4: Fix missing data in app_test using categorization and/or simple imputation when appropriate. You should use *only* pandas and numpy here. You should *not* use sklearn (scikit-learn).\n",
        "\n",
        "# First, we create a new data frame to store the newly curated and cleaned data with fixed missing values\n",
        "app_test_cleaned = app_test\n",
        "\n",
        "# We also separate columns with numerical data from columns with categorical data\n",
        "numerical_cols = app_test_cleaned.select_dtypes(include=['float64', 'int64']).columns\n",
        "categorical_cols = app_test_cleaned.select_dtypes(include=['object']).columns\n",
        "\n",
        "# We choose to impute numerical missing values with the median of all values from said column\n",
        "app_test_cleaned[numerical_cols] = app_test_cleaned[numerical_cols].fillna(app_test_cleaned[numerical_cols].median())\n",
        "\n",
        "# For categorical missing values, we use categorization, and create a 'Missing'category\n",
        "app_test_cleaned[categorical_cols] = app_test_cleaned[categorical_cols].fillna('Missing')\n",
        "\n",
        "# As a final step, we make sure that all the missing values were taken care of, by summing the total number of missing values left in cleaned data frame\n",
        "print('Number of missing values left in the app_test_cleaned data set: ', app_test_cleaned.isnull().sum().sum())"
      ]
    },
    {
      "cell_type": "markdown",
      "metadata": {
        "id": "Sz6iD4S-rVUy"
      },
      "source": [
        "**4**: Describe your approach, including how you choose the technique to apply, and how you apply the technique (double click to edit a text cell)\n",
        "\n"
      ]
    },
    {
      "cell_type": "markdown",
      "metadata": {},
      "source": []
    },
    {
      "cell_type": "markdown",
      "metadata": {
        "id": "LRgq0O0R8Dql"
      },
      "source": [
        "## Class Imbalance (8 pts)\n",
        "\n",
        "5. Evaluate the class imbalance of the training set.\n",
        "\n",
        "6. **a** Fix the class imbalance with over/undersampling\n",
        "\n",
        " **b** Use the SMOTE algorithm to fix class imbalance\n",
        "\n",
        "*You will be evaluated as follow*\n",
        "* 5: Correct approach + code: 2ts\n",
        "* 6.a: code 3pt\n",
        "* 6.b: code 3pts"
      ]
    },
    {
      "cell_type": "code",
      "execution_count": null,
      "metadata": {
        "id": "ylyaMfXN8Kbd"
      },
      "outputs": [],
      "source": [
        "# 5 - value counts\n",
        "\n",
        "\n",
        "# 5 - histograms\n"
      ]
    },
    {
      "cell_type": "markdown",
      "metadata": {
        "id": "KP0jGTbSfQyb"
      },
      "source": [
        "**5**: Describe briefly your observation (double click to edit a text cell)"
      ]
    },
    {
      "cell_type": "code",
      "execution_count": null,
      "metadata": {
        "id": "PTyLbFbxgiD1"
      },
      "outputs": [],
      "source": [
        "# copy your current dataframe with its .copy() method. You should always use the copy() method if you want to keep the original dataframe untouched when you modify\n",
        "# this is a very common bug, so please read  https://www.statology.org/pandas-copy-dataframe/\n",
        "\n",
        "## Your code here\n",
        "app_train_original = ...\n",
        "\n",
        "\n",
        "# 6.a - fix imbalance with undersampling or oversampling\n",
        "# Implement undersampling or oversampling *without* external libraries, only the library provided to implement yourself the chosen solution.\n",
        "\n",
        "## Your code here\n",
        "\n",
        "\n",
        "# 6.b - fix balance with SMOTE on your previously copied dataframe\n",
        "# You can use any external libraries to use SMOTE. We recommend the imbalanced-learn package https://imbalanced-learn.org/stable/over_sampling.html\n",
        "# Make sure to select the appropriate SMOTE variant.\n",
        "\n",
        "\n",
        "## Your code here\n",
        "app_train_smote = ...\n",
        "\n",
        "\n",
        "# We will use the dataframe app_train from 6.a in the following"
      ]
    },
    {
      "cell_type": "markdown",
      "metadata": {
        "id": "h27ZdP7aloQb"
      },
      "source": [
        "<h2>Categorical features (9pts)</h2>\n",
        "\n",
        "In `app_test`\n",
        "\n",
        "**7a**: How will you transform the column NAME_HOUSING_TYPE in app_test be correctly handled by the model? How will you transform CODE_GENDER column?\n",
        "\n",
        "**7b**: How would you transform the column NAME_HOUSING_TYPE in app_test if you want only 3 categories? Use LabelEncoder to transform FLAG_OWN_CAR column.\n",
        "\n",
        "**7c**: In ORGANIZATION_TYPE, only keep the categories that appear in more than 10% of the dataset. Group other categories in one. What is the size of the dummy vector for ORGANIZATION_TYPE after this transformation?\n",
        "\n",
        "\n",
        "8: **In app_test, app_past and bureau,** transform all the categorical columns that you have not processed in 7 using One-hot encoding.\n",
        "\n",
        "*You will be evaluated as follow*\n",
        "* 7: Description of the approach 4pts. Code 3pts.\n",
        "* 8: Correct approach + code 2pts."
      ]
    },
    {
      "cell_type": "code",
      "execution_count": null,
      "metadata": {
        "id": "shlk_faurPh6"
      },
      "outputs": [],
      "source": [
        "## Your code here"
      ]
    },
    {
      "cell_type": "markdown",
      "metadata": {
        "id": "ufWJR8ScnHb4"
      },
      "source": [
        "<h2>Anomalies (7 pts)</h2>\n",
        "\n",
        "**In app_test**\n",
        "\n",
        "**9a**: Is there an anomaly with the column DEF_30_CNT_SOCIAL_CIRCLE? If so, how would you solve it?\n",
        "\n",
        "**9b**: Is there an anomaly with the column LANDAREA_AVG? If so, how would you solve it?\n",
        "\n",
        "**9c**: Is there an anomaly with the column AMT_INCOME_TOTAL? If so, how would you solve it?\n",
        "\n",
        "10: Fix the anomaly in DAYS_EMPLOYED?\n",
        "\n",
        "*You will be evaluated as follow*\n",
        "* 9: Description of the approach + code 5pts.\n",
        "* 10: code 2pts"
      ]
    },
    {
      "cell_type": "code",
      "execution_count": null,
      "metadata": {
        "id": "I5TcZk8Q5jQ-"
      },
      "outputs": [],
      "source": [
        "## Your code here"
      ]
    },
    {
      "cell_type": "markdown",
      "metadata": {
        "id": "DgQ2i5B25lRC"
      },
      "source": [
        "<h2>Correlations (9 pts)</h2>\n",
        "\n",
        "\n",
        "11: **In app_test**, remove the collinear features of the dataset. How did you choose the threshold?\n",
        "\n",
        "12: What features from bureau.csv could you use to improve the training set? Use the random forest model from the notebook of the Lecture to check if it actually improves the final model performance.\n",
        "\n",
        "*You will be evaluated as follow*\n",
        "* 11: Code 3pts. Threshold explanation 1pt.\n",
        "* 12: Description of the approach 1pt. Code implementation of the approach 2pts. Improved performance 2pts."
      ]
    },
    {
      "cell_type": "code",
      "execution_count": null,
      "metadata": {
        "id": "uU1j3LW2S-ir"
      },
      "outputs": [],
      "source": [
        "## Your code here"
      ]
    },
    {
      "cell_type": "markdown",
      "metadata": {
        "id": "7_fQJhfcyQWn"
      },
      "source": [
        "##  Class imbalance and model performances (6 points)\n",
        "\n",
        "\n",
        "**13**: Evaluate the other technique (SMOTE) to handeling imbalance data left in *6.b*. Does it makes a difference on the final model performance? Can you use the performance on the test set to choose which techniques to use? If not, what would you need to do so?\n",
        "\n",
        "*You will be evaluated as follow*\n",
        "* 13: Code 3pts. Explanation 3pts.\n"
      ]
    },
    {
      "cell_type": "code",
      "execution_count": null,
      "metadata": {
        "id": "jDR7b8VRyUkS"
      },
      "outputs": [],
      "source": [
        "## Your code here"
      ]
    },
    {
      "cell_type": "markdown",
      "metadata": {
        "id": "-kxXg4CA3nPO"
      },
      "source": [
        "**13**: Answer the question here (double click to edit a text cell)\n",
        "\n"
      ]
    }
  ],
  "metadata": {
    "colab": {
      "provenance": []
    },
    "kernelspec": {
      "display_name": "env",
      "language": "python",
      "name": "python3"
    },
    "language_info": {
      "codemirror_mode": {
        "name": "ipython",
        "version": 3
      },
      "file_extension": ".py",
      "mimetype": "text/x-python",
      "name": "python",
      "nbconvert_exporter": "python",
      "pygments_lexer": "ipython3",
      "version": "3.11.8"
    }
  },
  "nbformat": 4,
  "nbformat_minor": 0
}
